{
 "cells": [
  {
   "cell_type": "markdown",
   "id": "4736c575",
   "metadata": {},
   "source": [
    "### Performance Metrics on Multi-Class Classification Problems"
   ]
  },
  {
   "cell_type": "code",
   "execution_count": 2,
   "id": "7b918d57",
   "metadata": {},
   "outputs": [],
   "source": [
    "from sklearn import metrics"
   ]
  },
  {
   "cell_type": "code",
   "execution_count": 3,
   "id": "20364a37",
   "metadata": {},
   "outputs": [],
   "source": [
    "C = \"Cat\"\n",
    "D = \"Dog\"\n",
    "F = \"Fox\""
   ]
  },
  {
   "cell_type": "markdown",
   "id": "33632ce4",
   "metadata": {},
   "source": [
    "The precision for the Cat class is the number of correctly predicted Cat out of all predicted Cat\n",
    "\n",
    "The recall for Cat is the number of correctly predicted Cat photos out of the number of actual Cat\n",
    "\n",
    "![confusion matrix](image.png)"
   ]
  },
  {
   "cell_type": "code",
   "execution_count": 7,
   "id": "c888d673",
   "metadata": {},
   "outputs": [
    {
     "name": "stdout",
     "output_type": "stream",
     "text": [
      "[[4 1 1]\n",
      " [3 6 0]\n",
      " [6 2 2]]\n",
      "              precision    recall  f1-score   support\n",
      "\n",
      "         Cat      0.308     0.667     0.421         6\n",
      "         Dog      0.667     0.667     0.667         9\n",
      "         Fox      0.667     0.200     0.308        10\n",
      "\n",
      "    accuracy                          0.480        25\n",
      "   macro avg      0.547     0.511     0.465        25\n",
      "weighted avg      0.581     0.480     0.464        25\n",
      "\n"
     ]
    }
   ],
   "source": [
    "#True class\n",
    "y_true = [C,C,C,C,C,C, F,F,F,F,F,F,F,F,F,F, D,D,D,D,D,D,D,D,D]\n",
    "\n",
    "#Predicted class\n",
    "y_pred = [C,C,C,C,D,F, C,C,C,C,C,C,D,D,F,F, C,C,C,D,D,D,D,D,D]\n",
    "\n",
    "#Print the confusion matrix\n",
    "print(metrics.confusion_matrix(y_true, y_pred))\n",
    "\n",
    "#Print the precision and recall, among other metrics\n",
    "print(metrics.classification_report(y_true, y_pred, digits = 3))"
   ]
  },
  {
   "cell_type": "markdown",
   "id": "79ea1314",
   "metadata": {},
   "source": [
    "In multiclass problems, TP, FP, FN, TN do not make sense, hence to calculate the accuracy, sum up the diagonal elements and divide it with the sum of all the other elements\n"
   ]
  },
  {
   "cell_type": "code",
   "execution_count": 10,
   "id": "0b3619c9",
   "metadata": {},
   "outputs": [
    {
     "data": {
      "text/plain": [
       "0.9230769230769231"
      ]
     },
     "execution_count": 10,
     "metadata": {},
     "output_type": "execute_result"
    }
   ],
   "source": [
    "accuracy = (4+6+2)/(1+1+3+0+6+2)\n",
    "accuracy"
   ]
  },
  {
   "cell_type": "code",
   "execution_count": 12,
   "id": "e0292d1b",
   "metadata": {},
   "outputs": [
    {
     "data": {
      "text/plain": [
       "0.3076923076923077"
      ]
     },
     "execution_count": 12,
     "metadata": {},
     "output_type": "execute_result"
    }
   ],
   "source": [
    "precision_cat = (4)/(4+3+6) #diagonal element divided by sum of column values\n",
    "precision_cat"
   ]
  },
  {
   "cell_type": "code",
   "execution_count": 13,
   "id": "d17dc4c3",
   "metadata": {},
   "outputs": [
    {
     "data": {
      "text/plain": [
       "0.6666666666666666"
      ]
     },
     "execution_count": 13,
     "metadata": {},
     "output_type": "execute_result"
    }
   ],
   "source": [
    "precision_dog = (6)/(1+6+2)\n",
    "precision_dog"
   ]
  },
  {
   "cell_type": "code",
   "execution_count": 14,
   "id": "ff08551c",
   "metadata": {},
   "outputs": [
    {
     "data": {
      "text/plain": [
       "0.6666666666666666"
      ]
     },
     "execution_count": 14,
     "metadata": {},
     "output_type": "execute_result"
    }
   ],
   "source": [
    "precision_fox = (2)/(1+0+2)\n",
    "precision_fox"
   ]
  },
  {
   "cell_type": "code",
   "execution_count": 15,
   "id": "d99d119b",
   "metadata": {},
   "outputs": [
    {
     "data": {
      "text/plain": [
       "0.6666666666666666"
      ]
     },
     "execution_count": 15,
     "metadata": {},
     "output_type": "execute_result"
    }
   ],
   "source": [
    "recall_cat = (4)/(4+1+1) #diagonal element divided by sum of row elements\n",
    "recall_cat"
   ]
  },
  {
   "cell_type": "code",
   "execution_count": 16,
   "id": "3cc3f6fe",
   "metadata": {},
   "outputs": [
    {
     "data": {
      "text/plain": [
       "0.6666666666666666"
      ]
     },
     "execution_count": 16,
     "metadata": {},
     "output_type": "execute_result"
    }
   ],
   "source": [
    "recall_dog = (6)/(3+6+0)\n",
    "recall_dog"
   ]
  },
  {
   "cell_type": "code",
   "execution_count": 17,
   "id": "4b623182",
   "metadata": {},
   "outputs": [
    {
     "data": {
      "text/plain": [
       "0.2"
      ]
     },
     "execution_count": 17,
     "metadata": {},
     "output_type": "execute_result"
    }
   ],
   "source": [
    "recall_fox = (2)/(6+2+2)\n",
    "recall_fox"
   ]
  },
  {
   "cell_type": "code",
   "execution_count": null,
   "id": "b14311e2",
   "metadata": {},
   "outputs": [],
   "source": []
  }
 ],
 "metadata": {
  "kernelspec": {
   "display_name": "Python 3",
   "language": "python",
   "name": "python3"
  },
  "language_info": {
   "codemirror_mode": {
    "name": "ipython",
    "version": 3
   },
   "file_extension": ".py",
   "mimetype": "text/x-python",
   "name": "python",
   "nbconvert_exporter": "python",
   "pygments_lexer": "ipython3",
   "version": "3.8.8"
  }
 },
 "nbformat": 4,
 "nbformat_minor": 5
}
